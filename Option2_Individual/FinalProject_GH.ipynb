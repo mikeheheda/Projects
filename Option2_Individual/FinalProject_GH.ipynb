{
 "cells": [
  {
   "cell_type": "markdown",
   "metadata": {},
   "source": [
    "# COGS 108 - Final Project "
   ]
  },
  {
   "cell_type": "code",
   "execution_count": null,
   "metadata": {},
   "outputs": [],
   "source": [
    "#!!!!!REMEMBER to delete this cell!!!!!#\n",
    "\n",
    "client_id = 'BV-MdU-m2F5XHDfMRcQbHA'\n",
    "\n",
    "my_key = 'CKMRLbmk9BQh_KCwAhsu9EttPeMkbQhf5cCTFMpvkLmk88fW_w4hV3CqObH2UFiJNKzcnNOQ_LYmdDLfgUyRgAmdllsJPfwQU3IprcsxE6i2bNlLAShmeGkU1YDQX3Yx'"
   ]
  },
  {
   "cell_type": "markdown",
   "metadata": {},
   "source": [
    "# Overview"
   ]
  },
  {
   "cell_type": "markdown",
   "metadata": {},
   "source": [
    "*3-4 sentences summarizing the project and the results*\n",
    "\n",
    "In this project, I will: \n",
    "-find the reviews for the hotels all the parks in San Diego; then I will do a sentiment analysis on them, relate that analysis to the budget spent on these parks every year to see if spending more on parks improves overall experience of hotels"
   ]
  },
  {
   "cell_type": "markdown",
   "metadata": {},
   "source": [
    "# Name & GitHub ID\n",
    "\n",
    "- Name: Yu Pan\n",
    "- GitHub Username: mikeheheda"
   ]
  },
  {
   "cell_type": "markdown",
   "metadata": {},
   "source": [
    "# Research Question"
   ]
  },
  {
   "cell_type": "markdown",
   "metadata": {},
   "source": [
    "*In order to help out the local economy, should the Parks Department higher their budget to create better experiences for local hotels and restaurants? In other words, is a higher budget for the Parks Department correlated to better Yelp reviews for hotels and restaurants that are close to the parks?*"
   ]
  },
  {
   "cell_type": "markdown",
   "metadata": {},
   "source": [
    "## Background and Prior Work"
   ]
  },
  {
   "cell_type": "markdown",
   "metadata": {},
   "source": [
    "As the coronavirus wreaks havoc on the US' economy, I am wondering if the San Diego Parks and Recreation Department should be granted a higher budget to create better park experiences, and thus help local business attract more customers. I am looking for a correlation between higher budget and better Yelp reviews on local business(specifically hotels and restaurants). While I cannot find any study that directly address this correlation, I do find many benefits that parks can bring to the local economy. \n",
    "\n",
    "According to WeConserve PA(1), a conservation community based in Pennsylvania, good parks attracts tourists to improve local economy. Homebuyers prefer purchasing properties near parks, which increases government tax income and local population, bringing in more business, further improing the economy. A case study demonstrates the benefits brought by the Balboa Park(2). Conducted by San Diego State University and Balboa Parj Conservancy, the *Balboa Park Benefits Study* concludes that the park alone brings an annual economic impact of 354.6 million dollars, which includes tourist lodging, food, shopping, etc. Moreover, it highlights that these non-local travelers occupy over 300 thousand hotel room nights and brings in 3.2 million dollars in sales tax. \n",
    "\n",
    "In a nutshell, a well-maintained parks system can generate significant economic impacts to the local economy. I am set to observe this impact on a micro scale, which is to find a correlation between the budget of the Parks Department and the reviews of local business on Yelp.\n",
    "\n",
    "References (include links):\n",
    "- 1)WeConserve PA - the Economic Benefits of Parks: https://conservationtools.org/guides/98-economic-benefits-of-parks\n",
    "- 2)SDSU - Balboa Park Benefits Study: https://balboaparkconservancy.org/wp-content/uploads/2017/09/Balboa-Park-Benefits-Study-2017.pdf"
   ]
  },
  {
   "cell_type": "markdown",
   "metadata": {},
   "source": [
    "# Hypothesis\n"
   ]
  },
  {
   "cell_type": "markdown",
   "metadata": {},
   "source": [
    "Since I am looking for a relationship between the Parks spending and the quality of local businesses, I propose the alternative hypothesis: \n",
    "\n",
    "H<sub>1</sub>: A higher budget for the San Diego Parks Department significantly correlates with better overall Yelp reviews for businesses that are close to the parks.\n",
    "\n",
    "and the null hypothesis:\n",
    "\n",
    "H<sub>0</sub>: No correlation exists between San Diego Parks Departments' budget and better overall Yelp reviews for local businesses."
   ]
  },
  {
   "cell_type": "markdown",
   "metadata": {},
   "source": [
    "# Dataset(s)"
   ]
  },
  {
   "cell_type": "markdown",
   "metadata": {},
   "source": [
    "*Fill in your dataset information here*\n",
    "\n",
    "(Copy this information for each dataset)\n",
    "- Dataset Name:\n",
    "- Link to the dataset:\n",
    "- Number of observations:\n",
    "\n",
    "1-2 sentences describing each dataset. \n",
    "\n",
    "If you plan to use multiple datasets, add 1-2 sentences about how you plan to combine these datasets."
   ]
  },
  {
   "cell_type": "markdown",
   "metadata": {},
   "source": [
    "# Setup"
   ]
  },
  {
   "cell_type": "code",
   "execution_count": null,
   "metadata": {
    "tags": []
   },
   "outputs": [],
   "source": [
    "import requests\n",
    "import pandas as pd\n"
   ]
  },
  {
   "cell_type": "markdown",
   "metadata": {},
   "source": [
    "# Data Cleaning"
   ]
  },
  {
   "source": [
    "- Using the parks locaton dataset, find coordinates of all parks in SD\n",
    "- Using above coordinates and the Yelp API, find all restaurants and hotels neraby these parks\n",
    "    - Using the Yelp API, extract the reviews for all these business\n",
    "- Using the Operation Actuals dataset, find the Parks department budget for the past few years"
   ],
   "cell_type": "markdown",
   "metadata": {}
  },
  {
   "source": [
    "cleaning data in park_loc, producing a dataframe named df_park that contains all the park's name"
   ],
   "cell_type": "markdown",
   "metadata": {}
  },
  {
   "cell_type": "code",
   "execution_count": null,
   "metadata": {
    "tags": []
   },
   "outputs": [],
   "source": [
    "#Read and store parks location dataset in park_loc\n",
    "park_loc_url = 'http://seshat.datasd.org/sde/parks/parks_datasd.geojson'\n",
    "park_loc = requests.get(park_loc_url).json()\n",
    "\n",
    "\n",
    "#cleaning data in park_loc, producing a dataframe named df_park that contains only 1)the park's name and 2) the parks' area\n",
    "parks = {}\n",
    "for i in range(0, len(park_loc['features']) - 1): \n",
    "\n",
    "    park_id = park_loc['features'][i]['properties']['objectid']\n",
    "    name = park_loc['features'][i]['properties']['alias']\n",
    "\n",
    "    parks[park_id] = name\n",
    "\n",
    "df_park = pd.DataFrame.from_dict(data = parks, orient = 'index', columns = ['name'])\n",
    "\n",
    "\n",
    "#because there is a restriction on the number of requests per day from the Yelp api, I created a new df named 'df_park_sample' that contains only the first 10 observations of 'df_park'. \n",
    "df_park_sample = df_park.iloc[:10]\n",
    "print(df_park_sample)"
   ]
  },
  {
   "cell_type": "markdown",
   "metadata": {},
   "source": [
    "In this following cell block, I am writing a function business_search() that will take in: \n",
    "- a park's name, \n",
    "\n",
    "and return \n",
    "- a list of 5 business ids that represent businesses close to the park, \n",
    "\n",
    "I am extracting the names and identifiers of nearby hotels and restaurants for later use"
   ]
  },
  {
   "cell_type": "code",
   "execution_count": null,
   "metadata": {},
   "outputs": [],
   "source": [
    "\n",
    "def business_search(park_name): \n",
    "\n",
    "    ENDPOINT = 'https://api.yelp.com/v3/businesses/search'\n",
    "    PARAMS = {'term' : 'hotel', \n",
    "                'location' : park_name,\n",
    "                'limit' : 5}\n",
    "    HEADERS = {'Authorization' : 'bearer %s' % my_key}\n",
    "    result = requests.get(url = ENDPOINT, params = PARAMS, headers = HEADERS).json()\n",
    "    id_list = []\n",
    "\n",
    "    for i in range(0, len(result['businesses'])): \n",
    "        business_id = result['businesses'][i]['id']\n",
    "        id_list.append(business_id)\n",
    "\n",
    "    return(id_list)"
   ]
  },
  {
   "source": [
    "Apply the function above to df_park_sample to send a request to Yelp API for a list of most relevant bueiness to the location of these parks. "
   ],
   "cell_type": "markdown",
   "metadata": {}
  },
  {
   "cell_type": "code",
   "execution_count": null,
   "metadata": {},
   "outputs": [],
   "source": [
    "df_park_sample['business_ids'] = df_park_sample.apply(business_search, axis = 1)\n",
    "print(df_park_sample)"
   ]
  },
  {
   "source": [
    "Before moving on, there is a little more cleaning to do. Since I am looking at overall reviews of business near parks, I don't need to distinguish them, therefore, I will merge all the business IDs into one dataframe and eliminate any repetition"
   ],
   "cell_type": "markdown",
   "metadata": {}
  },
  {
   "cell_type": "code",
   "execution_count": null,
   "metadata": {},
   "outputs": [],
   "source": [
    "#Merge all the businesses into a list\n",
    "b_list = []\n",
    "for i in range(1,len(df_park_sample)): \n",
    "    b_list += df_park_sample['business_ids'][i]\n",
    "print('number of results returned from the search: ' + str(len(b_list)))\n",
    "\n",
    "#Eliminate the repetition in the business ID list\n",
    "bus_id_lst = []\n",
    "for ind in b_list: \n",
    "    if ind not in bus_id_lst: \n",
    "        bus_id_lst.append(ind)\n",
    "print('number of unique businesses in the result: ' + str(len(bus_id_lst)))\n",
    "print(bus_id_lst)"
   ]
  },
  {
   "source": [
    "Next step is to extract all the comments from yelp, and save them in a new dataframe with their comment id and comment year. \n",
    "\n",
    "Now I am writing a method that would take in: \n",
    "- a list of business IDs\n",
    "\n",
    "and return:\n",
    "- a dataframe object whose\n",
    "    - index will be the id of the comment\n",
    "    - first column will be the year of the comment\n",
    "    - second column will be the content of the comment"
   ],
   "cell_type": "markdown",
   "metadata": {}
  },
  {
   "cell_type": "code",
   "execution_count": null,
   "metadata": {},
   "outputs": [],
   "source": [
    "#turns the 'time_created'(str) variable to the year(int) it's created\n",
    "def year_of(time): \n",
    "    return(int(time[0:4]))\n",
    "\n",
    "def review_of(id_list): \n",
    "\n",
    "    review_list = pd.DataFrame(columns = ['id', 'year', 'content'])\n",
    "\n",
    "    for id in id_list: \n",
    "        ENDPOINT = 'https://api.yelp.com/v3/businesses/' + id + '/reviews'\n",
    "        HEADERS = {'Authorization' : 'bearer %s' % my_key}\n",
    "        result = requests.get(url = ENDPOINT, headers = HEADERS).json()\n",
    "        for num in range(0, len(result['reviews']) - 1): \n",
    "            rvw_id = result['reviews'][num]['id']\n",
    "            rvw_time = result['reviews'][num]['time_created']\n",
    "            rvw_text = result['reviews'][num]['text']\n",
    "\n",
    "            x = {'id': rvw_id, 'year': year_of(rvw_time), 'content': rvw_text}\n",
    "            review_list = review_list.append(x, ignore_index = True)\n",
    "\n",
    "    return(review_list)\n",
    "\n",
    "df_review = review_of(bus_id_lst)\n",
    "print(df_review)"
   ]
  },
  {
   "source": [
    "Next, I will wrangle the accounting data from the San Diego Parks Department: \n",
    "First step is to request it and stored it as a variable. "
   ],
   "cell_type": "markdown",
   "metadata": {}
  },
  {
   "cell_type": "code",
   "execution_count": null,
   "metadata": {},
   "outputs": [],
   "source": [
    "opr_act_url = 'http://seshat.datasd.org/budget/actuals_operating_datasd.csv'\n",
    "opr_act = requests.get(url = opr_act_url).text"
   ]
  },
  {
   "cell_type": "code",
   "execution_count": null,
   "metadata": {},
   "outputs": [],
   "source": [
    "pd.read_csv(opr_act)"
   ]
  },
  {
   "cell_type": "markdown",
   "metadata": {},
   "source": [
    "# Data Analysis & Results"
   ]
  },
  {
   "cell_type": "markdown",
   "metadata": {},
   "source": [
    "Include cells that describe the steps in your data analysis."
   ]
  },
  {
   "cell_type": "code",
   "execution_count": null,
   "metadata": {},
   "outputs": [],
   "source": [
    "## YOUR CODE HERE\n",
    "## FEEL FREE TO ADD MULTIPLE CELLS PER SECTION"
   ]
  },
  {
   "cell_type": "markdown",
   "metadata": {},
   "source": [
    "# Ethics & Privacy"
   ]
  },
  {
   "cell_type": "markdown",
   "metadata": {},
   "source": [
    "*Fill in your ethics & privacy discussion here*"
   ]
  },
  {
   "cell_type": "markdown",
   "metadata": {},
   "source": [
    "# Conclusion & Discussion"
   ]
  },
  {
   "cell_type": "markdown",
   "metadata": {},
   "source": [
    "*Fill in your discussion information here*"
   ]
  }
 ],
 "metadata": {
  "kernelspec": {
   "name": "python3",
   "display_name": "Python 3.8.5 64-bit",
   "metadata": {
    "interpreter": {
     "hash": "f79dc7da782e708a8770396619fe09b546d8b4f79aca6f760fab760fc4c2ea19"
    }
   }
  },
  "language_info": {
   "codemirror_mode": {
    "name": "ipython",
    "version": 3
   },
   "file_extension": ".py",
   "mimetype": "text/x-python",
   "name": "python",
   "nbconvert_exporter": "python",
   "pygments_lexer": "ipython3",
   "version": "3.8.5-final"
  }
 },
 "nbformat": 4,
 "nbformat_minor": 2
}